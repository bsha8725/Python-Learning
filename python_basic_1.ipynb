{
 "cells": [
  {
   "cell_type": "code",
   "execution_count": null,
   "metadata": {},
   "outputs": [],
   "source": [
    "#Comment:Provide code readability(More comments doesn't mean the code is better,but code without comments must be junk code)\n",
    "\"\"\"\n",
    "This\n",
    "is\n",
    "a\n",
    "multi-line comment\n",
    "\"\"\"\n",
    "# This  \n",
    "# is \n",
    "# a \n",
    "#quick annotation method : ctrl + / command + /\n",
    "#All punctuation must be in English\n",
    "#Case must be distinguished \n",
    "\n"
   ]
  },
  {
   "cell_type": "code",
   "execution_count": null,
   "metadata": {},
   "outputs": [],
   "source": [
    "#Variable is a container for data storage\n",
    "#Data type \n",
    "#Interger type\n",
    "\n",
    "# a = 20 \n",
    "# a = 40\n",
    "a,b = 20,40\n",
    "print(a,b)\n",
    "# #string type(A string is a series of characters ''\"\" \"\"\"\"\"\")\n",
    "# name = 'Allen'\n",
    "# #Float type(decimal numbers)\n",
    "# pi = 3.14 \n",
    "# #boolean type: true or false\n",
    "\n",
    "# is_True = 10 == 20\n",
    "\n",
    "\n",
    "# #Python sets the variable type based on the value that is assigned to it.\n",
    "# #type \n",
    "# result = type(is_True)\n",
    "# print(result) \n",
    "#Conclusion:common data types:int float bool list tuple dict set"
   ]
  },
  {
   "cell_type": "code",
   "execution_count": null,
   "metadata": {},
   "outputs": [],
   "source": [
    "#variable naming conventions \n",
    "#A variable name must start with a letter or the underscore character\n",
    "#A variable name cannot start with a number\n",
    "#A variable name can only contain alpha-numeric characters and underscores (A-z, 0-9, and _ )\n",
    "#Variable names are case-sensitive (age, Age and AGE are three different variables)\n",
    "my_name ='kevin' \n",
    "# kevin = 10 \n",
    "# print(kevin) \n",
    "#keyword:The keywords are some predefined and reserved words in python that have special meanings.Keywords are used to define the syntax of the coding. \n",
    "The keyword cannot be used as an identifier, function, and variable name. All the keywords in python are written in lower case except True and False. \n",
    "\n",
    "\n"
   ]
  },
  {
   "cell_type": "code",
   "execution_count": null,
   "metadata": {},
   "outputs": [],
   "source": [
    "#keywords\n",
    "# import keyword \n",
    "# kw = keyword.kwlist\n",
    "# print(kw)\n",
    "# print = 10 \n",
    "# print(print)\n"
   ]
  },
  {
   "cell_type": "code",
   "execution_count": 32,
   "metadata": {},
   "outputs": [
    {
     "ename": "IndentationError",
     "evalue": "unexpected indent (<ipython-input-32-98077faca4fb>, line 47)",
     "output_type": "error",
     "traceback": [
      "\u001b[0;36m  File \u001b[0;32m\"<ipython-input-32-98077faca4fb>\"\u001b[0;36m, line \u001b[0;32m47\u001b[0m\n\u001b[0;31m    age = 18\u001b[0m\n\u001b[0m    ^\u001b[0m\n\u001b[0;31mIndentationError\u001b[0m\u001b[0;31m:\u001b[0m unexpected indent\n"
     ]
    }
   ],
   "source": [
    "#data type conversion\n",
    "#string can only be converted if it displays a number\n",
    "num = 10 \n",
    "my_str = '20'\n",
    "# result = num + my_str \n",
    "#my_str --- int \n",
    "result = int(my_str)\n",
    "\n",
    "result = result + num \n",
    "print(result)\n",
    "\n",
    "\n",
    "\n",
    "# #Convert string to int\n",
    "\n",
    "# result = int(my_str)\n",
    "\n",
    "# print(result,type(result)) \n",
    "\n",
    "# result = num + result \n",
    "\n",
    "#in jupyter, only the last variable can be previewed\n",
    "\n",
    "# int -- >str \n",
    "# a = 10 \n",
    "# result = str(a) \n",
    "# print(result,type(result)) \n",
    "\n",
    "#float \n",
    "# pi = 3.99 \n",
    "# result = int(pi)\n",
    "# print(result,type(result))  \n",
    "\n",
    "#conclusion: string--->int (int()) string-->float(float()) float--->int(int()) float--->string(str())\n",
    "#int() float() str()\n",
    "\n",
    "\n",
    "# my_str1 = 'abc'\n",
    "# my_str2 = 'bcd' \n",
    "# result = my_str2+my_str1\n",
    "# print(result)\n",
    "# print = 10 \n",
    "# print\n",
    "# int = float\n",
    "\n",
    "\n"
   ]
  },
  {
   "cell_type": "code",
   "execution_count": null,
   "metadata": {},
   "outputs": [],
   "source": [
    "\n",
    "#input and output\n",
    "# print('helloworld')\n",
    "# a = 10 \n",
    "# b = 20\n",
    "# print(a,b,sep='&')\n",
    "# print(1,end='')\n",
    "# print(2)\n",
    "\n",
    "# print??\n",
    "#input:hen input() function executes program flow will be stopped until the user has given an input.\n",
    "#remember:The type of input is string type\n",
    "result = input('Please input')\n",
    "print(type(result))\n",
    "\n",
    "\n",
    "\n"
   ]
  },
  {
   "cell_type": "code",
   "execution_count": null,
   "metadata": {},
   "outputs": [],
   "source": [
    "#if condition(if)\n",
    "#1.Let user input his/her age.\n",
    "#Dpending your age, print what stage of life you are in\n",
    "#==(equal to)!=(not euqal to)\n",
    "\n",
    "age = int(input('Please input your age'))\n",
    "\n",
    "#if statement:statements that meet the conditions to execute\n",
    "\n",
    "if age  >= 15 and age <=  17:\n",
    "    print('teenager')\n",
    "elif age >17 and age <= 40:\n",
    "    print('middle-aged')\n",
    "else:\n",
    "    print('older')\n"
   ]
  },
  {
   "cell_type": "code",
   "execution_count": null,
   "metadata": {},
   "outputs": [],
   "source": [
    "#Logical Operators: or and not \n",
    "#and True if both the operands are true\n",
    "#or True if either of the operands is true\n",
    "#not True if operand is false\n",
    "score = 101 \n",
    "# if score >=90 or score <=100: \n",
    "#     print('HD')\n",
    "#not True if operand is false\n",
    "# num = 2\n",
    "# if not num == 3 :\n",
    "#     print('num是3')\n",
    "#not equal to\n",
    "num = 2 \n",
    "if num> = 3:\n",
    "    \n",
    "    print('num is not equal to 3')"
   ]
  },
  {
   "cell_type": "code",
   "execution_count": null,
   "metadata": {},
   "outputs": [],
   "source": [
    "a = 10 \n",
    "b = 20 \n",
    "# b = a + b\n",
    "b += a\n",
    "print(b)"
   ]
  },
  {
   "cell_type": "code",
   "execution_count": 8,
   "metadata": {},
   "outputs": [
    {
     "ename": "IndentationError",
     "evalue": "unexpected indent (<ipython-input-8-a5446390275f>, line 3)",
     "output_type": "error",
     "traceback": [
      "\u001b[0;36m  File \u001b[0;32m\"<ipython-input-8-a5446390275f>\"\u001b[0;36m, line \u001b[0;32m3\u001b[0m\n\u001b[0;31m    num = 4\u001b[0m\n\u001b[0m    ^\u001b[0m\n\u001b[0;31mIndentationError\u001b[0m\u001b[0;31m:\u001b[0m unexpected indent\n"
     ]
    }
   ],
   "source": []
  },
  {
   "cell_type": "code",
   "execution_count": 14,
   "metadata": {},
   "outputs": [
    {
     "name": "stdout",
     "output_type": "stream",
     "text": [
      "我叫SJB\n",
      "python开始的分数100.001000\n"
     ]
    }
   ],
   "source": [
    "#formatting:\n",
    "#%s :string-formatting operator\n",
    "#%d: int-formatting operator\n",
    "#%f float-formatting operator\n",
    "\n",
    "name = \"Kevin\"\n",
    "print(\"I am %s\"%name)\n",
    "#Score\n",
    "score = 100.001 \n",
    "#How to keep three decimal places? \n",
    "print(format(score,'.3f'))\n"
   ]
  },
  {
   "cell_type": "code",
   "execution_count": 23,
   "metadata": {},
   "outputs": [
    {
     "name": "stdout",
     "output_type": "stream",
     "text": [
      "0\n",
      "1\n",
      "2\n",
      "3\n",
      "4\n"
     ]
    }
   ],
   "source": [
    "#Loop(for loop & while loop):A loop is used for iterating over a sequence (that is either a list, a tuple, a dictionary, a set, or a string). \n",
    "#dead loop:Causes CPU overloads.\n",
    "#print hello 5 times\n",
    "# num = 0\n",
    "\n",
    "# #print hello 100 times\n",
    "# while num < 5:\n",
    "#     num = num + 1 \n",
    "#     print('hello')\n",
    "# num = 5 \n",
    "# while num >0:\n",
    "#     num = num -1\n",
    "#     print('hello')\n",
    "\n",
    "#for range\n",
    "#A range needs to be given in the for loop \n",
    "#range(0:5:1) first position:start data,second position:end data(End data is not executed by default),1:jump distance\n",
    "# for value in range(0,5,2):\n",
    "#     print(value)\n",
    "#Save step size (jump distance) writing (default jump distance is 1)\n",
    "# for value in range(0,5):\n",
    "#     print(value)\n",
    "#The writing method of saving start data (default starts from 0)\n",
    "for value in range(5):\n",
    "    print(value)\n",
    "    "
   ]
  },
  {
   "cell_type": "code",
   "execution_count": 27,
   "metadata": {},
   "outputs": [
    {
     "name": "stdout",
     "output_type": "stream",
     "text": [
      "1\n",
      "haha\n"
     ]
    }
   ],
   "source": [
    "#The keyword (continue break) provided by the system can only be used in a loop\n",
    "#continue: end this loop, but not necessarily end the entire loop\n",
    "#break: break out of the entire loop\n",
    "num = 0 \n",
    "while num<5:\n",
    "    num+=1\n",
    "    if num ==5:\n",
    "        continue \n",
    "    print(num)\n",
    "\n",
    "\n"
   ]
  },
  {
   "cell_type": "code",
   "execution_count": null,
   "metadata": {},
   "outputs": [],
   "source": []
  }
 ],
 "metadata": {
  "kernelspec": {
   "display_name": "Python 3",
   "language": "python",
   "name": "python3"
  },
  "language_info": {
   "codemirror_mode": {
    "name": "ipython",
    "version": 3
   },
   "file_extension": ".py",
   "mimetype": "text/x-python",
   "name": "python",
   "nbconvert_exporter": "python",
   "pygments_lexer": "ipython3",
   "version": "3.7.6"
  }
 },
 "nbformat": 4,
 "nbformat_minor": 4
}
