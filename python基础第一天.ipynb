{
 "cells": [
  {
   "cell_type": "code",
   "execution_count": null,
   "metadata": {},
   "outputs": [],
   "source": [
    "#注释:可提供代码的可读性(不是注释越多,代码越好,没有注释的代码一定是垃圾代码)\n",
    "\"\"\"\n",
    "这\n",
    "是\n",
    "一\n",
    "一个 多行注释\n",
    "\"\"\"\n",
    "# 这  \n",
    "# 是 \n",
    "# 一个 \n",
    "#快速注释方法 : ctrl + / command + /\n",
    "#所有的标点符号 都需要是英文\n",
    "#大小写一定要区分 \n",
    "\n"
   ]
  },
  {
   "cell_type": "code",
   "execution_count": null,
   "metadata": {},
   "outputs": [],
   "source": [
    "#变量 通俗理解就是一个数据存储的容器\n",
    "#数据类型 \n",
    "#整数类型\n",
    "\n",
    "# a = 20 \n",
    "# a = 40\n",
    "a,b = 20,40\n",
    "print(a,b)\n",
    "# #字符串类型(字符串类型里面包裹的是字符''\"\" \"\"\"\"\"\")\n",
    "# name = '小马'\n",
    "# #浮点型(小数)\n",
    "# pi = 3.14 \n",
    "# #bool 非真即使假 \n",
    "\n",
    "# is_True = 10 == 20\n",
    "\n",
    "\n",
    "# #python 不需要指定数据类型 帮助我们自动推到\n",
    "# #type \n",
    "# result = type(is_True)\n",
    "# print(result) \n",
    "#总结:常见的数据类型:int float bool list tuple dict set"
   ]
  },
  {
   "cell_type": "code",
   "execution_count": null,
   "metadata": {},
   "outputs": [],
   "source": [
    "#变量命名规则 \n",
    "#见名知意\n",
    "#python使用下划线命名法\n",
    "#变量名由数字 字母下划线 不能以数字开头\n",
    "my_name ='zhang' \n",
    "# 张 = 10 \n",
    "# print(张) \n",
    "#系统预留一些自己使用的变量 关键字 \n",
    "\n",
    "\n",
    "\n"
   ]
  },
  {
   "cell_type": "code",
   "execution_count": null,
   "metadata": {},
   "outputs": [],
   "source": [
    "#关键字\n",
    "# import keyword \n",
    "# kw = keyword.kwlist\n",
    "# print(kw)\n",
    "# print = 10 \n",
    "# print(print)\n"
   ]
  },
  {
   "cell_type": "code",
   "execution_count": 32,
   "metadata": {},
   "outputs": [
    {
     "ename": "IndentationError",
     "evalue": "unexpected indent (<ipython-input-32-98077faca4fb>, line 47)",
     "output_type": "error",
     "traceback": [
      "\u001b[0;36m  File \u001b[0;32m\"<ipython-input-32-98077faca4fb>\"\u001b[0;36m, line \u001b[0;32m47\u001b[0m\n\u001b[0;31m    age = 18\u001b[0m\n\u001b[0m    ^\u001b[0m\n\u001b[0;31mIndentationError\u001b[0m\u001b[0;31m:\u001b[0m unexpected indent\n"
     ]
    }
   ],
   "source": [
    "#数据类型转换\n",
    "#记住的一点,str只有是显示的是数字才可以转换\n",
    "num = 10 \n",
    "my_str = '20'\n",
    "# result = num + my_str \n",
    "#my_str --- int \n",
    "result = int(my_str)\n",
    "\n",
    "result = result + num \n",
    "print(result)\n",
    "\n",
    "\n",
    "\n",
    "# #将字符串类型转换成int类型\n",
    "\n",
    "# result = int(my_str)\n",
    "\n",
    "# print(result,type(result)) \n",
    "\n",
    "# result = num + result \n",
    "\n",
    "#jupyter 只可以预览最后一个变量\n",
    "\n",
    "# int -- >str \n",
    "# a = 10 \n",
    "# result = str(a) \n",
    "# print(result,type(result)) \n",
    "\n",
    "#float \n",
    "# pi = 3.99 \n",
    "# result = int(pi)\n",
    "# print(result,type(result))  \n",
    "\n",
    "#总结 字符串--->整型 (int()) 字符串-->浮点型(float()) 浮点型--->整型(int()) 浮点型--->字符串类型(str())\n",
    "#int() float() str()\n",
    "\n",
    "\n",
    "# my_str1 = 'abc'\n",
    "# my_str2 = 'bcd' \n",
    "# result = my_str2+my_str1\n",
    "# print(result)\n",
    "# print = 10 \n",
    "# print\n",
    "# int = float\n",
    "\n",
    "\n"
   ]
  },
  {
   "cell_type": "code",
   "execution_count": null,
   "metadata": {},
   "outputs": [],
   "source": [
    "\n",
    "#输入输出\n",
    "# print('helloworld')\n",
    "# a = 10 \n",
    "# b = 20\n",
    "# print(a,b,sep='&')\n",
    "# print(1,end='')\n",
    "# print(2)\n",
    "\n",
    "# print??\n",
    "#输入:获取用户键盘输入的文字 \n",
    "#记住:用户键盘输入的类型是str类型\n",
    "result = input('请输入文字')\n",
    "print(type(result))\n",
    "\n",
    "\n",
    "\n"
   ]
  },
  {
   "cell_type": "code",
   "execution_count": null,
   "metadata": {},
   "outputs": [],
   "source": [
    "#if判断(if语句)\n",
    "#1.让用户输入你的年龄 \n",
    "#根据你的年龄,打印你处于人生的什么阶段\n",
    "#==(代表生活中的等于)!=(生活中的不等于)\n",
    "\n",
    "age = int(input('请输入你的年龄'))\n",
    "\n",
    "#判断语句:满足条件去执行的语句\n",
    "\n",
    "if age  >= 15 and age <=  17:\n",
    "    print('青少年')\n",
    "elif age >17 and age <= 40:\n",
    "    print('中年')\n",
    "else:\n",
    "    print('老年')\n"
   ]
  },
  {
   "cell_type": "code",
   "execution_count": null,
   "metadata": {},
   "outputs": [],
   "source": [
    "#逻辑运算符 or and not \n",
    "#and 代表左右两遍条件都满足才去执行\n",
    "#or 满足一个就执行\n",
    "#not 取反\n",
    "score = 101 \n",
    "# if score >=90 or score <=100: \n",
    "#     print('优秀')\n",
    "#not 对结果取反\n",
    "# num = 2\n",
    "# if not num == 3 :\n",
    "#     print('num是3')\n",
    "#不等于\n",
    "num = 2 \n",
    "if num> = 3:\n",
    "    \n",
    "    print('num不等于三')"
   ]
  },
  {
   "cell_type": "code",
   "execution_count": null,
   "metadata": {},
   "outputs": [],
   "source": [
    "a = 10 \n",
    "b = 20 \n",
    "# b = a + b\n",
    "b += a\n",
    "print(b)"
   ]
  },
  {
   "cell_type": "code",
   "execution_count": 8,
   "metadata": {},
   "outputs": [
    {
     "ename": "IndentationError",
     "evalue": "unexpected indent (<ipython-input-8-a5446390275f>, line 3)",
     "output_type": "error",
     "traceback": [
      "\u001b[0;36m  File \u001b[0;32m\"<ipython-input-8-a5446390275f>\"\u001b[0;36m, line \u001b[0;32m3\u001b[0m\n\u001b[0;31m    num = 4\u001b[0m\n\u001b[0m    ^\u001b[0m\n\u001b[0;31mIndentationError\u001b[0m\u001b[0;31m:\u001b[0m unexpected indent\n"
     ]
    }
   ],
   "source": []
  },
  {
   "cell_type": "code",
   "execution_count": 14,
   "metadata": {},
   "outputs": [
    {
     "name": "stdout",
     "output_type": "stream",
     "text": [
      "我叫SJB\n",
      "python开始的分数100.001000\n"
     ]
    }
   ],
   "source": [
    "#格式化符号:\n",
    "#%s :输出字符串类型\n",
    "#%d: 输出整数类型\n",
    "#%f 输出浮点型\n",
    "\n",
    "name = \"SJB\"\n",
    "print(\"我叫%s\"%name)\n",
    "#分数\n",
    "score = 100.001 \n",
    "#作业:保留三位小数怎么写\n",
    "print(\"python开始的分数%f\"     %score)\n"
   ]
  },
  {
   "cell_type": "code",
   "execution_count": 23,
   "metadata": {},
   "outputs": [
    {
     "name": "stdout",
     "output_type": "stream",
     "text": [
      "0\n",
      "1\n",
      "2\n",
      "3\n",
      "4\n"
     ]
    }
   ],
   "source": [
    "#循环(for 循环 while循环):根据某种条件,执行重复的操作,只要满足条件就一直重复\n",
    "#死循环:造成cpu负载量过大\n",
    "#控制循环的变量\n",
    "#打印5句hello\n",
    "# num = 0\n",
    "\n",
    "# #打印100句hello \n",
    "# while num < 5:\n",
    "#     num = num + 1 \n",
    "#     print('hello')\n",
    "# num = 5 \n",
    "# while num >0:\n",
    "#     num = num -1\n",
    "#     print('hello')\n",
    "\n",
    "#for 结合range来使用\n",
    "#for循环时需要给定一个范围 \n",
    "#range(0:5:1) 第一个数字:起始数据,第二个数字:结束数据(结束数据默认不执行),1:跳跃的距离\n",
    "# for value in range(0,5,2):\n",
    "#     print(value)\n",
    "#节省步长(跳跃的距离)写法(默认跳跃的距离为1)\n",
    "# for value in range(0,5):\n",
    "#     print(value)\n",
    "#节省起始数据的写法(默认从0开始)\n",
    "for value in range(5):\n",
    "    print(value)\n",
    "    "
   ]
  },
  {
   "cell_type": "code",
   "execution_count": 27,
   "metadata": {},
   "outputs": [
    {
     "name": "stdout",
     "output_type": "stream",
     "text": [
      "1\n",
      "haha\n"
     ]
    }
   ],
   "source": [
    "#系统提供的关键字(continue break)只能循环来使用\n",
    "#continue:结束本次循环,但不一定结束整个循环\n",
    "#break:跳出整个循环\n",
    "num = 0 \n",
    "while num<5:\n",
    "    num+=1\n",
    "    if num ==5:\n",
    "        continue \n",
    "    print(num)\n",
    "\n",
    "\n"
   ]
  },
  {
   "cell_type": "code",
   "execution_count": null,
   "metadata": {},
   "outputs": [],
   "source": []
  }
 ],
 "metadata": {
  "kernelspec": {
   "display_name": "Python 3",
   "language": "python",
   "name": "python3"
  },
  "language_info": {
   "codemirror_mode": {
    "name": "ipython",
    "version": 3
   },
   "file_extension": ".py",
   "mimetype": "text/x-python",
   "name": "python",
   "nbconvert_exporter": "python",
   "pygments_lexer": "ipython3",
   "version": "3.7.6"
  }
 },
 "nbformat": 4,
 "nbformat_minor": 4
}
